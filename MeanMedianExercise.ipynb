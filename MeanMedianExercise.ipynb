{
  "cells": [
    {
      "cell_type": "markdown",
      "metadata": {
        "id": "view-in-github",
        "colab_type": "text"
      },
      "source": [
        "<a href=\"https://colab.research.google.com/github/nayem-uddin/udemy-data-science-course/blob/main/MeanMedianExercise.ipynb\" target=\"_parent\"><img src=\"https://colab.research.google.com/assets/colab-badge.svg\" alt=\"Open In Colab\"/></a>"
      ]
    },
    {
      "cell_type": "markdown",
      "metadata": {
        "id": "5sbDel6-0R8R"
      },
      "source": [
        "# Exercise: Mean & Median Customer Spend"
      ]
    },
    {
      "cell_type": "markdown",
      "metadata": {
        "id": "sQfRjMWt0R8T"
      },
      "source": [
        "Here's some code that will generate some random e-commerce data; just an array of total amount spent per transaction. Select the code block, and hit \"play\" to execute it:"
      ]
    },
    {
      "cell_type": "code",
      "execution_count": 17,
      "metadata": {
        "colab": {
          "base_uri": "https://localhost:8080/",
          "height": 430
        },
        "id": "2dO0Aiyf0R8U",
        "outputId": "266f712c-fa56-47cf-a03b-3d252a952c6f"
      },
      "outputs": [
        {
          "output_type": "display_data",
          "data": {
            "text/plain": [
              "<Figure size 640x480 with 1 Axes>"
            ],
            "image/png": "[encoded data removed]"
          },
          "metadata": {}
        }
      ],
      "source": [
        "%matplotlib inline\n",
        "import numpy as np\n",
        "import matplotlib.pyplot as plt\n",
        "\n",
        "incomes = np.random.normal(100.0, 20.0, 10000)\n",
        "\n",
        "plt.hist(incomes, 50)\n",
        "plt.show()"
      ]
    },
    {
      "cell_type": "markdown",
      "metadata": {
        "id": "-wtS4Xbw0R8V"
      },
      "source": [
        "Now, find the mean and median of this data. In the code block below, write your code, and see if your result makes sense:"
      ]
    },
    {
      "cell_type": "code",
      "execution_count": 18,
      "metadata": {
        "colab": {
          "base_uri": "https://localhost:8080/"
        },
        "id": "ny21hcHl0R8W",
        "outputId": "13062066-f741-4b79-f66a-5e6e71b924bf"
      },
      "outputs": [
        {
          "output_type": "stream",
          "name": "stdout",
          "text": [
            "100.25959601024147\n",
            "100.10765571576258\n"
          ]
        }
      ],
      "source": [
        "print(np.mean(incomes))\n",
        "print(np.median(incomes))"
      ]
    },
    {
      "cell_type": "markdown",
      "metadata": {
        "id": "pKTgWDVJ0R8W"
      },
      "source": [
        "This is pretty much the world's easiest assignment, but we're just trying to get your hands on iPython and writing code with numpy to get you comfortable with it.\n",
        "\n",
        "Try playing with the code above to generate different distributions of data, or add outliers to it to see their effect."
      ]
    },
    {
      "cell_type": "code",
      "execution_count": 39,
      "metadata": {
        "colab": {
          "base_uri": "https://localhost:8080/"
        },
        "id": "JcpWeFX80R8W",
        "outputId": "e951c298-d0d9-49f8-be49-3f91ed97533b"
      },
      "outputs": [
        {
          "output_type": "execute_result",
          "data": {
            "text/plain": [
              "array([8.18341297e+01, 7.98099538e+01, 1.05151258e+02, ...,\n",
              "       9.86313845e+01, 1.31224700e+02, 1.00000000e+11])"
            ]
          },
          "metadata": {},
          "execution_count": 39
        }
      ],
      "source": [
        "# adding an outlier to see its effect on the distribution of the dataset\n",
        "incomes = np.append(incomes, [100000000000])\n",
        "incomes"
      ]
    },
    {
      "cell_type": "code",
      "source": [
        "plt.hist(incomes,10)\n",
        "plt.show()"
      ],
      "metadata": {
        "colab": {
          "base_uri": "https://localhost:8080/",
          "height": 448
        },
        "id": "BSt-SnSl2zg9",
        "outputId": "6cbc2c1e-79fb-4434-f2d3-7b40c99b4b25"
      },
      "execution_count": 37,
      "outputs": [
        {
          "output_type": "display_data",
          "data": {
            "text/plain": [
              "<Figure size 640x480 with 1 Axes>"
            ],
            "image/png": "[encoded data removed]"
          },
          "metadata": {}
        }
      ]
    },
    {
      "cell_type": "code",
      "source": [
        "print(np.mean(incomes))\n",
        "print(np.median(incomes))"
      ],
      "metadata": {
        "colab": {
          "base_uri": "https://localhost:8080/"
        },
        "id": "wWc0VpbG3UdV",
        "outputId": "baf86260-4cb6-4ae7-83b7-fdb507afaf4a"
      },
      "execution_count": 35,
      "outputs": [
        {
          "output_type": "stream",
          "name": "stdout",
          "text": [
            "10001100.353737265\n",
            "100.11038543724139\n"
          ]
        }
      ]
    },
    {
      "cell_type": "code",
      "source": [
        "from scipy import stats\n",
        "stats.mode(incomes)"
      ],
      "metadata": {
        "colab": {
          "base_uri": "https://localhost:8080/"
        },
        "id": "4FF1rZ_q35Cd",
        "outputId": "e5b77c6e-fb19-4001-bd47-f88f8d6104d5"
      },
      "execution_count": 42,
      "outputs": [
        {
          "output_type": "execute_result",
          "data": {
            "text/plain": [
              "ModeResult(mode=23.54936800160678, count=1)"
            ]
          },
          "metadata": {},
          "execution_count": 42
        }
      ]
    }
  ],
  "metadata": {
    "kernelspec": {
      "display_name": "Python 3",
      "language": "python",
      "name": "python3"
    },
    "language_info": {
      "codemirror_mode": {
        "name": "ipython",
        "version": 3
      },
      "file_extension": ".py",
      "mimetype": "text/x-python",
      "name": "python",
      "nbconvert_exporter": "python",
      "pygments_lexer": "ipython3",
      "version": "3.7.3"
    },
    "colab": {
      "provenance": [],
      "include_colab_link": true
    }
  },
  "nbformat": 4,
  "nbformat_minor": 0
}