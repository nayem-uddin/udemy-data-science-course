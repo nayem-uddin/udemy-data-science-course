{
  "cells": [
    {
      "cell_type": "markdown",
      "metadata": {
        "id": "view-in-github",
        "colab_type": "text"
      },
      "source": [
        "<a href=\"https://colab.research.google.com/github/nayem-uddin/udemy-data-science-course/blob/main/MeanMedianMode.ipynb\" target=\"_parent\"><img src=\"https://colab.research.google.com/assets/colab-badge.svg\" alt=\"Open In Colab\"/></a>"
      ]
    },
    {
      "cell_type": "markdown",
      "metadata": {
        "id": "npwGvclARRMk"
      },
      "source": [
        "# Mean, Median, Mode, and introducing NumPy"
      ]
    },
    {
      "cell_type": "markdown",
      "metadata": {
        "id": "LeLffJWBRRMl"
      },
      "source": [
        "## Mean vs. Median"
      ]
    },
    {
      "cell_type": "markdown",
      "metadata": {
        "id": "8UC2UAG6RRMm"
      },
      "source": [
        "Let's create some fake income data, centered around 27,000 with a normal distribution and standard deviation of 15,000, with 10,000 data points. (We'll discuss those terms more later, if you're not familiar with them.)\n",
        "\n",
        "Then, compute the mean (average) - it should be close to 27,000:"
      ]
    },
    {
      "cell_type": "code",
      "execution_count": null,
      "metadata": {
        "colab": {
          "base_uri": "https://localhost:8080/"
        },
        "id": "KOZiSskuRRMn",
        "outputId": "7eb36819-e532-4aa9-d12e-937d8afd5a00"
      },
      "outputs": [
        {
          "output_type": "execute_result",
          "data": {
            "text/plain": [
              "27126.830867832803"
            ]
          },
          "metadata": {},
          "execution_count": 1
        }
      ],
      "source": [
        "import numpy as np\n",
        "\n",
        "incomes = np.random.normal(27000, 15000, 10000)\n",
        "np.mean(incomes)"
      ]
    },
    {
      "cell_type": "markdown",
      "metadata": {
        "id": "C2NDi5aRRRMo"
      },
      "source": [
        "We can segment the income data into 50 buckets, and plot it as a histogram:"
      ]
    },
    {
      "cell_type": "code",
      "execution_count": null,
      "metadata": {
        "colab": {
          "base_uri": "https://localhost:8080/",
          "height": 430
        },
        "id": "CX5bSoUnRRMo",
        "outputId": "ed2b9072-a1f8-4bd6-afb2-8590bce5689d"
      },
      "outputs": [
        {
          "output_type": "display_data",
          "data": {
            "text/plain": [
              "<Figure size 640x480 with 1 Axes>"
            ],
            "image/png": "[encoded data removed]"
          },
          "metadata": {}
        }
      ],
      "source": [
        "%matplotlib inline\n",
        "import matplotlib.pyplot as plt\n",
        "plt.hist(incomes, 50)\n",
        "plt.show()"
      ]
    },
    {
      "cell_type": "markdown",
      "metadata": {
        "id": "oQ4roZkfRRMo"
      },
      "source": [
        "Now compute the median - since we have a nice, even distribution it too should be close to 27,000:"
      ]
    },
    {
      "cell_type": "code",
      "execution_count": null,
      "metadata": {
        "colab": {
          "base_uri": "https://localhost:8080/"
        },
        "id": "Zp_ZFWU9RRMo",
        "outputId": "089afbcd-98c6-42d4-ae69-1026eb0a2f31"
      },
      "outputs": [
        {
          "output_type": "execute_result",
          "data": {
            "text/plain": [
              "27050.640264497033"
            ]
          },
          "metadata": {},
          "execution_count": 9
        }
      ],
      "source": [
        "np.median(incomes)"
      ]
    },
    {
      "cell_type": "markdown",
      "metadata": {
        "id": "MmUvCXu8RRMp"
      },
      "source": [
        "Now we'll add Jeff Bezos into the mix. Darn income inequality!"
      ]
    },
    {
      "cell_type": "code",
      "execution_count": null,
      "metadata": {
        "id": "X1mS_5W9RRMp"
      },
      "outputs": [],
      "source": [
        "incomes = np.append(incomes, [1000000000])"
      ]
    },
    {
      "cell_type": "markdown",
      "metadata": {
        "id": "mCY2KbFPRRMp"
      },
      "source": [
        "The median won't change much, but the mean does:"
      ]
    },
    {
      "cell_type": "code",
      "execution_count": null,
      "metadata": {
        "colab": {
          "base_uri": "https://localhost:8080/"
        },
        "id": "Wlhpr2BFRRMq",
        "outputId": "5a159714-4d5f-4578-b593-5e809380eb40"
      },
      "outputs": [
        {
          "output_type": "execute_result",
          "data": {
            "text/plain": [
              "27050.90198846593"
            ]
          },
          "metadata": {},
          "execution_count": 11
        }
      ],
      "source": [
        "np.median(incomes)"
      ]
    },
    {
      "cell_type": "code",
      "execution_count": null,
      "metadata": {
        "colab": {
          "base_uri": "https://localhost:8080/"
        },
        "id": "NJzEzyubRRMq",
        "outputId": "839a5f95-beaf-43a7-e3fe-38551c7667ff"
      },
      "outputs": [
        {
          "output_type": "execute_result",
          "data": {
            "text/plain": [
              "127114.11945588721"
            ]
          },
          "metadata": {},
          "execution_count": 12
        }
      ],
      "source": [
        "np.mean(incomes)"
      ]
    },
    {
      "cell_type": "markdown",
      "metadata": {
        "id": "fEvo4dcTRRMq"
      },
      "source": [
        "## Mode"
      ]
    },
    {
      "cell_type": "markdown",
      "metadata": {
        "id": "zNLA-mIwRRMq"
      },
      "source": [
        "Next, let's generate some fake age data for 500 people:"
      ]
    },
    {
      "cell_type": "code",
      "execution_count": null,
      "metadata": {
        "colab": {
          "base_uri": "https://localhost:8080/"
        },
        "id": "s_fE5iDBRRMr",
        "outputId": "f4b7469f-a27f-4d4c-9c46-2d0485e60bfe"
      },
      "outputs": [
        {
          "output_type": "execute_result",
          "data": {
            "text/plain": [
              "array([41, 76, 75, 25, 38, 76, 44, 89, 88, 59, 68, 79, 88, 64, 43, 31, 85,\n",
              "       82, 56, 34, 82, 32, 36, 68, 68, 79, 20, 88, 60, 48, 31, 49, 21, 52,\n",
              "       28, 63, 50, 68, 68, 30, 53, 81, 55, 24, 25, 55, 42, 81, 42, 72, 23,\n",
              "       32, 77, 55, 18, 24, 33, 41, 23, 68, 75, 48, 87, 86, 35, 66, 51, 19,\n",
              "       39, 35, 75, 77, 40, 66, 52, 26, 43, 82, 68, 68, 52, 53, 30, 26, 45,\n",
              "       76, 21, 64, 40, 69, 35, 33, 81, 84, 64, 25, 38, 47, 75, 64, 33, 57,\n",
              "       60, 32, 57, 29, 80, 34, 88, 37, 42, 78, 70, 79, 69, 86, 60, 80, 38,\n",
              "       60, 64, 88, 28, 25, 89, 83, 52, 42, 52, 28, 65, 66, 89, 73, 29, 29,\n",
              "       81, 72, 76, 59, 41, 19, 43, 45, 48, 83, 84, 88, 23, 85, 50, 33, 83,\n",
              "       31, 65, 80, 32, 88, 81, 65, 75, 63, 80, 39, 89, 44, 59, 66, 80, 60,\n",
              "       40, 80, 32, 21, 56, 76, 32, 29, 27, 28, 27, 60, 70, 35, 48, 65, 87,\n",
              "       86, 59, 27, 66, 82, 67, 26, 73, 22, 74, 52, 26, 67, 18, 25, 74, 23,\n",
              "       89, 58, 58, 26, 54, 46, 48, 49, 83, 83, 71, 49, 66, 38, 51, 60, 59,\n",
              "       61, 83, 55, 88, 71, 56, 31, 55, 66, 34, 69, 67, 66, 46, 20, 53, 45,\n",
              "       41, 40, 26, 53, 70, 38, 46, 89, 71, 21, 51, 29, 41, 54, 28, 25, 76,\n",
              "       74, 18, 88, 68, 83, 66, 58, 62, 52, 30, 60, 75, 61, 76, 77, 39, 24,\n",
              "       55, 78, 66, 51, 30, 70, 56, 80, 44, 75, 84, 82, 42, 41, 75, 84, 63,\n",
              "       55, 86, 33, 36, 67, 32, 33, 82, 88, 56, 31, 73, 54, 26, 28, 79, 84,\n",
              "       74, 28, 62, 18, 23, 58, 23, 26, 64, 88, 55, 85, 32, 22, 24, 42, 58,\n",
              "       57, 79, 75, 58, 88, 63, 70, 22, 61, 36, 43, 21, 88, 34, 49, 21, 76,\n",
              "       26, 80, 72, 74, 86, 81, 33, 50, 48, 72, 60, 42, 62, 71, 62, 23, 28,\n",
              "       24, 68, 82, 74, 35, 38, 83, 63, 37, 20, 77, 57, 63, 21, 60, 78, 50,\n",
              "       29, 37, 20, 61, 65, 76, 45, 45, 66, 41, 73, 26, 75, 38, 73, 67, 27,\n",
              "       36, 83, 87, 64, 85, 50, 57, 86, 68, 75, 73, 24, 20, 41, 24, 33, 77,\n",
              "       57, 87, 82, 72, 37, 67, 72, 23, 73, 59, 82, 38, 51, 73, 37, 85, 51,\n",
              "       62, 42, 71, 31, 31, 87, 82, 34, 48, 84, 42, 59, 50, 52, 87, 48, 64,\n",
              "       46, 87, 89, 58, 69, 61, 51, 61, 72, 84, 82, 30, 22, 39, 32, 34, 62,\n",
              "       36, 62, 19, 33, 60, 64, 40, 43, 44, 27, 23, 23, 77, 86, 72, 79, 75,\n",
              "       85, 21, 63, 20, 25, 38, 41, 70, 44, 32, 48, 89, 50, 28, 73, 42, 26,\n",
              "       63, 84, 65, 81, 74, 48, 24])"
            ]
          },
          "metadata": {},
          "execution_count": 13
        }
      ],
      "source": [
        "ages = np.random.randint(18, high=90, size=500) # 500 values, starting from 18, ending at 90\n",
        "ages"
      ]
    },
    {
      "cell_type": "code",
      "execution_count": null,
      "metadata": {
        "colab": {
          "base_uri": "https://localhost:8080/"
        },
        "id": "-rLsKpcxRRMr",
        "outputId": "95bed623-9895-45dc-f897-4ab157d976e0"
      },
      "outputs": [
        {
          "output_type": "execute_result",
          "data": {
            "text/plain": [
              "ModeResult(mode=88, count=13)"
            ]
          },
          "metadata": {},
          "execution_count": 15
        }
      ],
      "source": [
        "from scipy import stats\n",
        "stats.mode(ages)"
      ]
    },
    {
      "cell_type": "markdown",
      "source": [
        "\"mode=x\" means the mode of the given dataset is x, and \"count=y\" means the datapoint x appeared y times in the dataset."
      ],
      "metadata": {
        "id": "-JMBer2fVfg9"
      }
    }
  ],
  "metadata": {
    "kernelspec": {
      "display_name": "Python 3",
      "language": "python",
      "name": "python3"
    },
    "language_info": {
      "codemirror_mode": {
        "name": "ipython",
        "version": 3
      },
      "file_extension": ".py",
      "mimetype": "text/x-python",
      "name": "python",
      "nbconvert_exporter": "python",
      "pygments_lexer": "ipython3",
      "version": "3.7.3"
    },
    "colab": {
      "provenance": [],
      "include_colab_link": true
    }
  },
  "nbformat": 4,
  "nbformat_minor": 0
}