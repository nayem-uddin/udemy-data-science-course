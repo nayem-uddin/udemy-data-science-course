{
  "cells": [
    {
      "cell_type": "markdown",
      "metadata": {
        "id": "view-in-github",
        "colab_type": "text"
      },
      "source": [
        "<a href=\"https://colab.research.google.com/github/nayem-uddin/udemy-data-science-course/blob/main/Moments.ipynb\" target=\"_parent\"><img src=\"https://colab.research.google.com/assets/colab-badge.svg\" alt=\"Open In Colab\"/></a>"
      ]
    },
    {
      "cell_type": "markdown",
      "metadata": {
        "id": "HyrfiAyZWmOp"
      },
      "source": [
        "# Moments: Mean, Variance, Skew, Kurtosis"
      ]
    },
    {
      "cell_type": "markdown",
      "metadata": {
        "id": "yg3xB7DwWmOr"
      },
      "source": [
        "Create a roughly normal-distributed random set of data:"
      ]
    },
    {
      "cell_type": "code",
      "execution_count": 1,
      "metadata": {
        "colab": {
          "base_uri": "https://localhost:8080/",
          "height": 433
        },
        "id": "UEoBc-m3WmOr",
        "outputId": "f54557ec-82bc-4f90-8b68-87c4f01bc0e4"
      },
      "outputs": [
        {
          "output_type": "display_data",
          "data": {
            "text/plain": [
              "<Figure size 640x480 with 1 Axes>"
            ],
            "image/png": "[encoded data removed]"
          },
          "metadata": {}
        }
      ],
      "source": [
        "%matplotlib inline\n",
        "import numpy as np\n",
        "import matplotlib.pyplot as plt\n",
        "\n",
        "vals = np.random.normal(0, 0.5, 10000)\n",
        "\n",
        "plt.hist(vals, 50)\n",
        "plt.show()"
      ]
    },
    {
      "cell_type": "markdown",
      "metadata": {
        "id": "0dcsxmtOWmOt"
      },
      "source": [
        "The first moment is the mean; this data should average out to about 0:"
      ]
    },
    {
      "cell_type": "code",
      "execution_count": 2,
      "metadata": {
        "colab": {
          "base_uri": "https://localhost:8080/"
        },
        "id": "kGNrGRmQWmOt",
        "outputId": "f7e144e9-dba0-46e6-beaa-b2ecbd2ae117"
      },
      "outputs": [
        {
          "output_type": "execute_result",
          "data": {
            "text/plain": [
              "-0.0038164884031101766"
            ]
          },
          "metadata": {},
          "execution_count": 2
        }
      ],
      "source": [
        "np.mean(vals)"
      ]
    },
    {
      "cell_type": "markdown",
      "metadata": {
        "id": "MlYWy7ENWmOu"
      },
      "source": [
        "The second moment is the variance:"
      ]
    },
    {
      "cell_type": "code",
      "execution_count": 3,
      "metadata": {
        "colab": {
          "base_uri": "https://localhost:8080/"
        },
        "id": "fEuxscWmWmOu",
        "outputId": "2371387b-3d2e-4250-df69-5df118f29b20"
      },
      "outputs": [
        {
          "output_type": "execute_result",
          "data": {
            "text/plain": [
              "0.24895858508769747"
            ]
          },
          "metadata": {},
          "execution_count": 3
        }
      ],
      "source": [
        "np.var(vals)"
      ]
    },
    {
      "cell_type": "markdown",
      "metadata": {
        "id": "gB5rQvcgWmOv"
      },
      "source": [
        "The third moment is skew - since our data is nicely centered around 0, it should be almost 0:"
      ]
    },
    {
      "cell_type": "code",
      "execution_count": 4,
      "metadata": {
        "colab": {
          "base_uri": "https://localhost:8080/"
        },
        "id": "BfAQDzk_WmOv",
        "outputId": "0ae5df50-d5dd-4713-bb1d-3bf2395d40f8"
      },
      "outputs": [
        {
          "output_type": "execute_result",
          "data": {
            "text/plain": [
              "0.008113775214509757"
            ]
          },
          "metadata": {},
          "execution_count": 4
        }
      ],
      "source": [
        "import scipy.stats as sp\n",
        "sp.skew(vals)"
      ]
    },
    {
      "cell_type": "markdown",
      "metadata": {
        "id": "csYplJrQWmOv"
      },
      "source": [
        "The fourth moment is \"kurtosis\", which describes the shape of the tail. For a normal distribution, this is 0:"
      ]
    },
    {
      "cell_type": "code",
      "execution_count": 5,
      "metadata": {
        "colab": {
          "base_uri": "https://localhost:8080/"
        },
        "id": "jx1a_GSGWmOw",
        "outputId": "8bffb05d-fee0-4889-8fb9-6d54b973c143"
      },
      "outputs": [
        {
          "output_type": "execute_result",
          "data": {
            "text/plain": [
              "0.011296859083214983"
            ]
          },
          "metadata": {},
          "execution_count": 5
        }
      ],
      "source": [
        "sp.kurtosis(vals)"
      ]
    },
    {
      "cell_type": "markdown",
      "metadata": {
        "id": "MDPY5Q8_WmOw"
      },
      "source": [
        "## Activity"
      ]
    },
    {
      "cell_type": "markdown",
      "metadata": {
        "id": "RJLD1ajPWmOw"
      },
      "source": [
        "Understanding skew: change the normal distribution to be centered around 10 instead of 0, and see what effect that has on the moments.\n",
        "\n",
        "The skew is still near zero; skew is associated with the shape of the distribution, not its actual offset in X."
      ]
    },
    {
      "cell_type": "code",
      "execution_count": 7,
      "metadata": {
        "colab": {
          "base_uri": "https://localhost:8080/",
          "height": 430
        },
        "id": "h9E33DxFWmOx",
        "outputId": "e7f3998a-c015-4a03-d3cb-4bda36044b61"
      },
      "outputs": [
        {
          "output_type": "display_data",
          "data": {
            "text/plain": [
              "<Figure size 640x480 with 1 Axes>"
            ],
            "image/png": "[encoded data removed]"
          },
          "metadata": {}
        }
      ],
      "source": [
        "import numpy as np\n",
        "import matplotlib.pyplot as plt\n",
        "values=np.random.normal(10,0.5,10000)\n",
        "plt.hist(values,50)\n",
        "plt.show()"
      ]
    },
    {
      "cell_type": "code",
      "source": [
        "np.mean(values)"
      ],
      "metadata": {
        "colab": {
          "base_uri": "https://localhost:8080/"
        },
        "id": "5F6a57-myEGk",
        "outputId": "1902aad4-22f1-4338-da69-2c0df3244730"
      },
      "execution_count": 8,
      "outputs": [
        {
          "output_type": "execute_result",
          "data": {
            "text/plain": [
              "9.99912909959961"
            ]
          },
          "metadata": {},
          "execution_count": 8
        }
      ]
    },
    {
      "cell_type": "code",
      "source": [
        "np.var(values)"
      ],
      "metadata": {
        "colab": {
          "base_uri": "https://localhost:8080/"
        },
        "id": "IPNJUrA0yHb8",
        "outputId": "d4b5caa8-7264-4f69-8eb2-282ffbac4f52"
      },
      "execution_count": 9,
      "outputs": [
        {
          "output_type": "execute_result",
          "data": {
            "text/plain": [
              "0.2525403929527663"
            ]
          },
          "metadata": {},
          "execution_count": 9
        }
      ]
    },
    {
      "cell_type": "code",
      "source": [
        "import scipy.stats as stts\n",
        "stts.skew(values)"
      ],
      "metadata": {
        "colab": {
          "base_uri": "https://localhost:8080/"
        },
        "id": "HkzybNFCyIfL",
        "outputId": "6a4faf0e-971b-4ba7-d5da-a51eb2e539b0"
      },
      "execution_count": 10,
      "outputs": [
        {
          "output_type": "execute_result",
          "data": {
            "text/plain": [
              "0.005517414035681764"
            ]
          },
          "metadata": {},
          "execution_count": 10
        }
      ]
    },
    {
      "cell_type": "code",
      "source": [
        "stts.kurtosis(values)"
      ],
      "metadata": {
        "colab": {
          "base_uri": "https://localhost:8080/"
        },
        "id": "CybJtFnJyUCE",
        "outputId": "7262f532-469b-431a-8afd-07fb24508ee3"
      },
      "execution_count": 11,
      "outputs": [
        {
          "output_type": "execute_result",
          "data": {
            "text/plain": [
              "0.10175450353960747"
            ]
          },
          "metadata": {},
          "execution_count": 11
        }
      ]
    }
  ],
  "metadata": {
    "kernelspec": {
      "display_name": "Python 3",
      "language": "python",
      "name": "python3"
    },
    "language_info": {
      "codemirror_mode": {
        "name": "ipython",
        "version": 3
      },
      "file_extension": ".py",
      "mimetype": "text/x-python",
      "name": "python",
      "nbconvert_exporter": "python",
      "pygments_lexer": "ipython3",
      "version": "3.7.3"
    },
    "colab": {
      "provenance": [],
      "include_colab_link": true
    }
  },
  "nbformat": 4,
  "nbformat_minor": 0
}