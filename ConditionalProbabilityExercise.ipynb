{
  "cells": [
    {
      "cell_type": "markdown",
      "metadata": {
        "id": "view-in-github",
        "colab_type": "text"
      },
      "source": [
        "<a href=\"https://colab.research.google.com/github/nayem-uddin/udemy-data-science-course/blob/main/ConditionalProbabilityExercise.ipynb\" target=\"_parent\"><img src=\"https://colab.research.google.com/assets/colab-badge.svg\" alt=\"Open In Colab\"/></a>"
      ]
    },
    {
      "cell_type": "markdown",
      "metadata": {
        "id": "lGNbRxm3mgrS"
      },
      "source": [
        "# Conditional Probability Activity & Exercise"
      ]
    },
    {
      "cell_type": "markdown",
      "metadata": {
        "id": "LYXXjtOrmgrU"
      },
      "source": [
        "Below is some code to create some fake data on how much stuff people purchase given their age range.\n",
        "\n",
        "It generates 100,000 random \"people\" and randomly assigns them as being in their 20's, 30's, 40's, 50's, 60's, or 70's.\n",
        "\n",
        "It then assigns a lower probability for young people to buy stuff.\n",
        "\n",
        "In the end, we have two Python dictionaries:\n",
        "\n",
        "\"totals\" contains the total number of people in each age group.\n",
        "\"purchases\" contains the total number of things purchased by people in each age group.\n",
        "The grand total of purchases is in totalPurchases, and we know the total number of people is 100,000.\n",
        "\n",
        "Let's run it and have a look:"
      ]
    },
    {
      "cell_type": "code",
      "execution_count": 1,
      "metadata": {
        "id": "itE_2OKKmgrV"
      },
      "outputs": [],
      "source": [
        "from numpy import random\n",
        "random.seed(0) # to make a consistent array of random numbers\n",
        "\n",
        "totals = {20:0, 30:0, 40:0, 50:0, 60:0, 70:0} # initializing the total no. of people in each age group\n",
        "purchases = {20:0, 30:0, 40:0, 50:0, 60:0, 70:0} # initializing the total no. of stuffs purchased by people in each age group\n",
        "totalPurchases = 0 # initializing the total no. of purchased stuffs\n",
        "for _ in range(100000):\n",
        "    ageDecade = random.choice([20, 30, 40, 50, 60, 70]) # picks a random number from the list given inside\n",
        "    purchaseProbability = float(ageDecade) / 100.0 # based on the (fake) assumption that more aged people tend to buy more products\n",
        "    totals[ageDecade] += 1\n",
        "    if (random.random() < purchaseProbability):\n",
        "        totalPurchases += 1\n",
        "        purchases[ageDecade] += 1"
      ]
    },
    {
      "cell_type": "code",
      "execution_count": 2,
      "metadata": {
        "colab": {
          "base_uri": "https://localhost:8080/"
        },
        "id": "kooRRuegmgrX",
        "outputId": "1adc7d03-fc5f-400c-fb3a-3c40e019b6ce"
      },
      "outputs": [
        {
          "output_type": "execute_result",
          "data": {
            "text/plain": [
              "{20: 16576, 30: 16619, 40: 16632, 50: 16805, 60: 16664, 70: 16704}"
            ]
          },
          "metadata": {},
          "execution_count": 2
        }
      ],
      "source": [
        "totals"
      ]
    },
    {
      "cell_type": "code",
      "execution_count": 3,
      "metadata": {
        "colab": {
          "base_uri": "https://localhost:8080/"
        },
        "id": "pU5vSyytmgrY",
        "outputId": "6fcc2639-7a2b-4370-8a09-9c9f37e13e62"
      },
      "outputs": [
        {
          "output_type": "execute_result",
          "data": {
            "text/plain": [
              "{20: 3392, 30: 4974, 40: 6670, 50: 8319, 60: 9944, 70: 11713}"
            ]
          },
          "metadata": {},
          "execution_count": 3
        }
      ],
      "source": [
        "purchases"
      ]
    },
    {
      "cell_type": "code",
      "execution_count": 4,
      "metadata": {
        "colab": {
          "base_uri": "https://localhost:8080/"
        },
        "id": "zIM7ROqcmgrY",
        "outputId": "2454d88e-078b-401c-a7ad-6cdccec0fb88"
      },
      "outputs": [
        {
          "output_type": "execute_result",
          "data": {
            "text/plain": [
              "45012"
            ]
          },
          "metadata": {},
          "execution_count": 4
        }
      ],
      "source": [
        "totalPurchases"
      ]
    },
    {
      "cell_type": "markdown",
      "metadata": {
        "id": "PeEVftComgrY"
      },
      "source": [
        "Let's play with conditional probability.\n",
        "\n",
        "First let's compute P(E|F), where E is \"purchase\" and F is \"you're in your 30's\". The probability of someone in their 30's buying something is just the percentage of how many 30-year-olds bought something:"
      ]
    },
    {
      "cell_type": "code",
      "execution_count": 12,
      "metadata": {
        "colab": {
          "base_uri": "https://localhost:8080/"
        },
        "id": "DcoY-NqtmgrY",
        "outputId": "e096bdfb-586f-4c5d-9be7-75740d430180"
      },
      "outputs": [
        {
          "output_type": "stream",
          "name": "stdout",
          "text": [
            "P(purchase | 30s): 0.29929598652145134\n"
          ]
        }
      ],
      "source": [
        "PEF = purchases[30] / totals[30]\n",
        "print('P(purchase | 30s):', PEF)"
      ]
    },
    {
      "cell_type": "markdown",
      "source": [
        "Learner's note: There may arise a question that why the denominator is not the totalPurchases. The answer is, that would happend if the question was about picking someone from the consumers and then calculating the probability of him\n",
        "being in his 30's. But here the condition is the opposite: you're picking someone from the people who are in their 30's and then calculating the probability of him being a consumer."
      ],
      "metadata": {
        "id": "0qMHI1gO61vE"
      }
    },
    {
      "cell_type": "markdown",
      "metadata": {
        "id": "tyP1Sw5cmgrZ"
      },
      "source": [
        "P(F) is just the probability of being 30 in this data set:"
      ]
    },
    {
      "cell_type": "code",
      "execution_count": 20,
      "metadata": {
        "colab": {
          "base_uri": "https://localhost:8080/"
        },
        "id": "PvuDAm4hmgrZ",
        "outputId": "5e6eb936-beaa-498a-8b78-313015ae15a7"
      },
      "outputs": [
        {
          "output_type": "stream",
          "name": "stdout",
          "text": [
            "P(30's):  0.16619\n"
          ]
        }
      ],
      "source": [
        "PF = totals[30] / 100000.0\n",
        "print(\"P(30's): \", PF)"
      ]
    },
    {
      "cell_type": "markdown",
      "metadata": {
        "id": "HgakiVu8mgrZ"
      },
      "source": [
        "And P(E) is the overall probability of buying something, regardless of your age:"
      ]
    },
    {
      "cell_type": "code",
      "execution_count": 21,
      "metadata": {
        "colab": {
          "base_uri": "https://localhost:8080/"
        },
        "id": "cRd4AeUqmgrZ",
        "outputId": "faffe71a-dcd1-4c58-dc6f-f12ad3573a90"
      },
      "outputs": [
        {
          "output_type": "stream",
          "name": "stdout",
          "text": [
            "P(Purchase): 0.45012\n"
          ]
        }
      ],
      "source": [
        "PE = totalPurchases / 100000.0\n",
        "print(\"P(Purchase):\", PE)"
      ]
    },
    {
      "cell_type": "markdown",
      "metadata": {
        "id": "GlTdnrL3mgrZ"
      },
      "source": [
        "If E and F were independent, then we would expect P(E | F) to be about the same as P(E). But they're not; P(E) is 0.45, and P(E|F) is 0.3. So, that tells us that E and F are dependent (which we know they are in this example.)"
      ]
    },
    {
      "cell_type": "markdown",
      "metadata": {
        "id": "wKVvUDYbmgrZ"
      },
      "source": [
        "P(E,F) is different from P(E|F). P(E,F) would be the probability of both being in your 30's and buying something, out of the total population - not just the population of people in their 30's:"
      ]
    },
    {
      "cell_type": "code",
      "execution_count": 22,
      "metadata": {
        "scrolled": true,
        "colab": {
          "base_uri": "https://localhost:8080/"
        },
        "id": "tlRRYh9-mgra",
        "outputId": "00551a10-0205-456f-db40-287c2309fc03"
      },
      "outputs": [
        {
          "output_type": "stream",
          "name": "stdout",
          "text": [
            "P(30's, Purchase): 0.04974\n"
          ]
        }
      ],
      "source": [
        "print(\"P(30's, Purchase):\", purchases[30] / 100000.0)"
      ]
    },
    {
      "cell_type": "markdown",
      "metadata": {
        "id": "JLJitOd-mgra"
      },
      "source": [
        "Let's also compute the product of P(E) and P(F), P(E)P(F):"
      ]
    },
    {
      "cell_type": "code",
      "execution_count": 23,
      "metadata": {
        "colab": {
          "base_uri": "https://localhost:8080/"
        },
        "id": "gfYpF87Dmgra",
        "outputId": "0797b5ee-7d60-4b0f-b225-0f0bfb907ead"
      },
      "outputs": [
        {
          "output_type": "stream",
          "name": "stdout",
          "text": [
            "P(30's)P(Purchase): 0.07480544280000001\n"
          ]
        }
      ],
      "source": [
        "print(\"P(30's)P(Purchase):\", PE * PF)"
      ]
    },
    {
      "cell_type": "markdown",
      "metadata": {
        "id": "lIM41QGFmgra"
      },
      "source": [
        "Something you may learn in stats is that P(E,F) = P(E)P(F), but this assumes E and F are independent. We've found here that P(E,F) is about 0.05, while P(E)P(F) is about 0.075. So when E and F are dependent - and we have a conditional probability going on - we can't just say that P(E,F) = P(E)P(F).\n",
        "\n",
        "We can also check that P(E|F) = P(E,F)/P(F), which is the relationship we showed in the slides - and sure enough, it is:"
      ]
    },
    {
      "cell_type": "code",
      "execution_count": 24,
      "metadata": {
        "colab": {
          "base_uri": "https://localhost:8080/"
        },
        "id": "Bi14kDDUmgrb",
        "outputId": "e2eda600-fa2c-4a08-917e-43677b1c8bc4"
      },
      "outputs": [
        {
          "output_type": "stream",
          "name": "stdout",
          "text": [
            "0.29929598652145134\n"
          ]
        }
      ],
      "source": [
        "print((purchases[30] / 100000.0) / PF)"
      ]
    },
    {
      "cell_type": "markdown",
      "metadata": {
        "id": "_sss04pLmgrb"
      },
      "source": [
        "## Your Assignment"
      ]
    },
    {
      "cell_type": "markdown",
      "metadata": {
        "id": "QxhPdT8pmgrb"
      },
      "source": [
        "Modify the code above such that the purchase probability does NOT vary with age, making E and F actually independent.\n",
        "\n",
        "Then, confirm that P(E|F) is about the same as P(E), showing that the conditional probability of purchase for a given age is not any different than the a-priori probability of purchase regardless of age.\n"
      ]
    },
    {
      "cell_type": "code",
      "execution_count": 38,
      "metadata": {
        "id": "NselDR4_mgrb"
      },
      "outputs": [],
      "source": [
        "from numpy import random\n",
        "random.seed(0)\n",
        "\n",
        "totals = {20:0, 30:0, 40:0, 50:0, 60:0, 70:0}\n",
        "purchases = {20:0, 30:0, 40:0, 50:0, 60:0, 70:0}\n",
        "totalPurchases = 0\n",
        "for _ in range(100000):\n",
        "    ageDecade = random.choice([20, 30, 40, 50, 60, 70])\n",
        "    purchaseProbability = 1/6 # just a randomly picked number\n",
        "    totals[ageDecade] += 1\n",
        "    if (random.random() < purchaseProbability):\n",
        "        totalPurchases += 1\n",
        "        purchases[ageDecade] += 1"
      ]
    },
    {
      "cell_type": "code",
      "source": [
        "totals"
      ],
      "metadata": {
        "colab": {
          "base_uri": "https://localhost:8080/"
        },
        "id": "TYLUXDf1C7h7",
        "outputId": "1aac7bee-68cc-4cac-c3f8-0047cf639888"
      },
      "execution_count": 26,
      "outputs": [
        {
          "output_type": "execute_result",
          "data": {
            "text/plain": [
              "{20: 16576, 30: 16619, 40: 16632, 50: 16805, 60: 16664, 70: 16704}"
            ]
          },
          "metadata": {},
          "execution_count": 26
        }
      ]
    },
    {
      "cell_type": "code",
      "source": [
        "purchases"
      ],
      "metadata": {
        "colab": {
          "base_uri": "https://localhost:8080/"
        },
        "id": "kMCUdSbYC-Gq",
        "outputId": "c0f592cb-b064-437a-e1e1-25d095def940"
      },
      "execution_count": 27,
      "outputs": [
        {
          "output_type": "execute_result",
          "data": {
            "text/plain": [
              "{20: 2826, 30: 2744, 40: 2807, 50: 2722, 60: 2790, 70: 2790}"
            ]
          },
          "metadata": {},
          "execution_count": 27
        }
      ]
    },
    {
      "cell_type": "code",
      "source": [
        "totalPurchases"
      ],
      "metadata": {
        "colab": {
          "base_uri": "https://localhost:8080/"
        },
        "id": "kFuSnXQ_DAPK",
        "outputId": "75943826-c538-48e2-8256-64b1742b9124"
      },
      "execution_count": 28,
      "outputs": [
        {
          "output_type": "execute_result",
          "data": {
            "text/plain": [
              "16679"
            ]
          },
          "metadata": {},
          "execution_count": 28
        }
      ]
    },
    {
      "cell_type": "markdown",
      "source": [
        "Notations are the same as above."
      ],
      "metadata": {
        "id": "a-BFbsuLDXfk"
      }
    },
    {
      "cell_type": "code",
      "source": [
        "PE=totalPurchases/100000\n",
        "print(\"P(E):\",PE)"
      ],
      "metadata": {
        "colab": {
          "base_uri": "https://localhost:8080/"
        },
        "id": "rEDeEViNDB-S",
        "outputId": "3bfd1b3c-cb1a-462e-a7ef-10dadfad11c2"
      },
      "execution_count": 33,
      "outputs": [
        {
          "output_type": "stream",
          "name": "stdout",
          "text": [
            "P(E): 0.16679\n"
          ]
        }
      ]
    },
    {
      "cell_type": "code",
      "source": [
        "PF=totals[30]/100000\n",
        "print(\"P(F):\",PF)"
      ],
      "metadata": {
        "colab": {
          "base_uri": "https://localhost:8080/"
        },
        "id": "Q10MeMBuDtPK",
        "outputId": "788923af-1611-43fa-9ffb-5ab13df3d706"
      },
      "execution_count": 30,
      "outputs": [
        {
          "output_type": "stream",
          "name": "stdout",
          "text": [
            "P(F): 0.16619\n"
          ]
        }
      ]
    },
    {
      "cell_type": "code",
      "source": [
        "PEcF=purchases[30]/100000\n",
        "print(\"P(E,F):\",PEcF)"
      ],
      "metadata": {
        "colab": {
          "base_uri": "https://localhost:8080/"
        },
        "id": "o7zq7odZDy1q",
        "outputId": "6fcd49d4-c745-41f3-f7df-680472610721"
      },
      "execution_count": 35,
      "outputs": [
        {
          "output_type": "stream",
          "name": "stdout",
          "text": [
            "P(E,F): 0.02744\n"
          ]
        }
      ]
    },
    {
      "cell_type": "code",
      "source": [
        "print(\"P(E)*P(F):\",PE*PF)"
      ],
      "metadata": {
        "colab": {
          "base_uri": "https://localhost:8080/"
        },
        "id": "O-wtNffuEGwK",
        "outputId": "ece86c8e-4a06-40ba-d11d-f7a2aaa3c91d"
      },
      "execution_count": 36,
      "outputs": [
        {
          "output_type": "stream",
          "name": "stdout",
          "text": [
            "P(E)*P(F): 0.0277188301\n"
          ]
        }
      ]
    },
    {
      "cell_type": "code",
      "source": [
        "PEbF=purchases[30]/totals[30]\n",
        "print(\"P(E|F):\",PEbF)"
      ],
      "metadata": {
        "colab": {
          "base_uri": "https://localhost:8080/"
        },
        "id": "QvIQwkbYEOHC",
        "outputId": "afed19ad-aa29-4983-970e-f29b86103564"
      },
      "execution_count": 37,
      "outputs": [
        {
          "output_type": "stream",
          "name": "stdout",
          "text": [
            "P(E|F): 0.1651122209519225\n"
          ]
        }
      ]
    },
    {
      "cell_type": "markdown",
      "source": [
        "Notice that P(E,F) and P(E)*P(F) are almost equal; the same applies for P(E) and P(E|F). This implies that E and F are independent.\n"
      ],
      "metadata": {
        "id": "vmGyE1sOEqgs"
      }
    }
  ],
  "metadata": {
    "kernelspec": {
      "display_name": "Python 3",
      "language": "python",
      "name": "python3"
    },
    "language_info": {
      "codemirror_mode": {
        "name": "ipython",
        "version": 3
      },
      "file_extension": ".py",
      "mimetype": "text/x-python",
      "name": "python",
      "nbconvert_exporter": "python",
      "pygments_lexer": "ipython3",
      "version": "3.7.3"
    },
    "colab": {
      "provenance": [],
      "include_colab_link": true
    }
  },
  "nbformat": 4,
  "nbformat_minor": 0
}